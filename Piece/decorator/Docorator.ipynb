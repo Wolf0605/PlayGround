{
  "nbformat": 4,
  "nbformat_minor": 0,
  "metadata": {
    "colab": {
      "name": "Docorator",
      "provenance": []
    },
    "kernelspec": {
      "name": "python3",
      "display_name": "Python 3"
    },
    "language_info": {
      "name": "python"
    }
  },
  "cells": [
    {
      "cell_type": "code",
      "metadata": {
        "id": "kDxdzgcNPw_E"
      },
      "source": [
        "# @ Decorator"
      ],
      "execution_count": null,
      "outputs": []
    },
    {
      "cell_type": "code",
      "metadata": {
        "colab": {
          "base_uri": "https://localhost:8080/"
        },
        "id": "tu41K702PxBk",
        "outputId": "653a8a98-8302-46d1-bb0b-73f9d141f259"
      },
      "source": [
        "# 예를 들어 다음과 같이 간단한 함수가 있습니다\n",
        "def main_function():\n",
        "  print(\"메인 함수 시작\")\n",
        "\n",
        "main_function()"
      ],
      "execution_count": 1,
      "outputs": [
        {
          "output_type": "stream",
          "name": "stdout",
          "text": [
            "메인 함수 시작\n"
          ]
        }
      ]
    },
    {
      "cell_type": "code",
      "metadata": {
        "colab": {
          "base_uri": "https://localhost:8080/"
        },
        "id": "CuTdRvSMPxEU",
        "outputId": "5f5319f6-b626-428c-fe92-ee63ccc2dd4d"
      },
      "source": [
        "# 만약 메인 함수 앞, 뒤에 현재 시간을 출력하는 함수가 추가된 경우\n",
        "\n",
        "import datetime\n",
        "def main_function():\n",
        "  print(datetime.datetime.now())\n",
        "  print(\"Main FUNCTION START\")\n",
        "  print(datetime.datetime.now())\n",
        "\n",
        "main_function()"
      ],
      "execution_count": 4,
      "outputs": [
        {
          "output_type": "stream",
          "name": "stdout",
          "text": [
            "2021-10-04 07:42:38.331314\n",
            "Main FUNCTION START\n",
            "2021-10-04 07:42:38.334031\n"
          ]
        }
      ]
    },
    {
      "cell_type": "code",
      "metadata": {
        "colab": {
          "base_uri": "https://localhost:8080/"
        },
        "id": "Hj0ULA2BPxGO",
        "outputId": "d4656111-fbe4-45d8-9e71-249163b1f042"
      },
      "source": [
        "# 만약 다음과 같은 기능을 갖는 함수를 다수 구축해야 한다면??\n",
        "\n",
        "def main_function_1():\n",
        "  print(datetime.datetime.now())\n",
        "  print(\"Main FUNCTION START 1 \")\n",
        "  print(datetime.datetime.now())\n",
        "\n",
        "def main_function_2():\n",
        "  print(datetime.datetime.now())\n",
        "  print(\"Main FUNCTION START 2 \")\n",
        "  print(datetime.datetime.now())\n",
        "\n",
        "def main_function_3():\n",
        "  print(datetime.datetime.now())\n",
        "  print(\"Main FUNCTION START 3 \")\n",
        "  print(datetime.datetime.now())\n",
        "\n",
        "main_function_1()\n",
        "main_function_2()\n",
        "main_function_3()"
      ],
      "execution_count": 7,
      "outputs": [
        {
          "output_type": "stream",
          "name": "stdout",
          "text": [
            "2021-10-04 07:46:09.385999\n",
            "Main FUNCTION START 1 \n",
            "2021-10-04 07:46:09.386134\n",
            "2021-10-04 07:46:09.386208\n",
            "Main FUNCTION START 2 \n",
            "2021-10-04 07:46:09.386273\n",
            "2021-10-04 07:46:09.386342\n",
            "Main FUNCTION START 3 \n",
            "2021-10-04 07:46:09.386398\n"
          ]
        }
      ]
    },
    {
      "cell_type": "code",
      "metadata": {
        "colab": {
          "base_uri": "https://localhost:8080/"
        },
        "id": "TYwP1LJNQpiQ",
        "outputId": "4df8a2df-483a-4e50-cc40-635c5e6213d7"
      },
      "source": [
        "# 만약 저런게 100개가 넘는다면 굉장히 코드가 많아질것\n",
        "\n",
        "# 그래서 나온게 decorator !!\n",
        "\n",
        "def datetime_decorator(func):\n",
        "    def decorated():\n",
        "      print(datetime.datetime.now())\n",
        "      func()\n",
        "      print(datetime.datetime.now())\n",
        "    return decorated\n",
        "\n",
        "@datetime_decorator\n",
        "def main_fucntion_1():\n",
        "  print(\"Main FUNCTION START 1 \")\n",
        "\n",
        "@datetime_decorator\n",
        "def main_fucntion_2():\n",
        "  print(\"Main FUNCTION START 2 \")\n",
        "  \n",
        "@datetime_decorator\n",
        "def main_fucntion_3():\n",
        "  print(\"Main FUNCTION START 3 \")\n",
        "\n",
        "main_fucntion_1()\n",
        "main_fucntion_2()\n",
        "main_fucntion_3()\n",
        "\n"
      ],
      "execution_count": 12,
      "outputs": [
        {
          "output_type": "stream",
          "name": "stdout",
          "text": [
            "2021-10-04 07:49:48.427966\n",
            "Main FUNCTION START 1 \n",
            "2021-10-04 07:49:48.428173\n",
            "2021-10-04 07:49:48.428269\n",
            "Main FUNCTION START 2 \n",
            "2021-10-04 07:49:48.431074\n",
            "2021-10-04 07:49:48.431609\n",
            "Main FUNCTION START 3 \n",
            "2021-10-04 07:49:48.432374\n"
          ]
        }
      ]
    },
    {
      "cell_type": "code",
      "metadata": {
        "colab": {
          "base_uri": "https://localhost:8080/"
        },
        "id": "dDgfZvVvRvN5",
        "outputId": "b405b136-b165-4c14-91aa-df3d3883a671"
      },
      "source": [
        "## 내꺼 예제\n",
        "\n",
        "def hello_decorator(func):\n",
        "  def decorated():\n",
        "    print(\"Hello world \")\n",
        "    func()\n",
        "    print(\"Bye world ! ! \")\n",
        "  return decorated\n",
        "\n",
        "\n",
        "@hello_decorator\n",
        "def hello_1():\n",
        "  print(\"11111111111\")\n",
        "\n",
        "@hello_decorator\n",
        "def hello_2():\n",
        "  print(\"222222222222\")\n",
        "\n",
        "hello_1()\n",
        "hello_2()"
      ],
      "execution_count": 13,
      "outputs": [
        {
          "output_type": "stream",
          "name": "stdout",
          "text": [
            "Hello world \n",
            "11111111111\n",
            "Bye world ! ! \n",
            "Hello world \n",
            "222222222222\n",
            "Bye world ! ! \n"
          ]
        }
      ]
    },
    {
      "cell_type": "code",
      "metadata": {
        "id": "mXCQI2PXSnCB"
      },
      "source": [
        ""
      ],
      "execution_count": null,
      "outputs": []
    }
  ]
}