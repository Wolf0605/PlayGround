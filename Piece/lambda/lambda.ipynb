{
  "nbformat": 4,
  "nbformat_minor": 0,
  "metadata": {
    "colab": {
      "name": "lambda",
      "provenance": []
    },
    "kernelspec": {
      "name": "python3",
      "display_name": "Python 3"
    },
    "language_info": {
      "name": "python"
    }
  },
  "cells": [
    {
      "cell_type": "code",
      "metadata": {
        "id": "kuQhy9F0TitI"
      },
      "source": [
        "# lambda 람다? 다람쥐?"
      ],
      "execution_count": null,
      "outputs": []
    },
    {
      "cell_type": "markdown",
      "metadata": {
        "id": "7V_9eAeHUD-J"
      },
      "source": [
        "## 왜 람다를 쓰는가\n",
        "\n",
        "### 일회용 함수를 만들기 위해서\n",
        "\n",
        "예를 들어서 x + y 라는 함수를 쓰려고 한다고 가정"
      ]
    },
    {
      "cell_type": "code",
      "metadata": {
        "colab": {
          "base_uri": "https://localhost:8080/"
        },
        "id": "jg8y1KvJUATq",
        "outputId": "371b1171-d0de-4c4b-e728-9154abf73053"
      },
      "source": [
        "def hab(x, y):\n",
        "  return x+y\n",
        "\n",
        "hab(1,2)"
      ],
      "execution_count": 1,
      "outputs": [
        {
          "output_type": "execute_result",
          "data": {
            "text/plain": [
              "3"
            ]
          },
          "metadata": {},
          "execution_count": 1
        }
      ]
    },
    {
      "cell_type": "markdown",
      "metadata": {
        "id": "pdy7d_8AUf2a"
      },
      "source": [
        "이처럼 한번 쓸 함수를 위해서 함수를 만든다는게 너무 싫은가보다\n",
        "### 그래서 lamda 가 탄생 했다"
      ]
    },
    {
      "cell_type": "code",
      "metadata": {
        "colab": {
          "base_uri": "https://localhost:8080/"
        },
        "id": "MHXf57hrTmRs",
        "outputId": "66bd1042-715a-45d3-ec83-82a35a2e7321"
      },
      "source": [
        "(lambda x,y : x+y)(10,20)"
      ],
      "execution_count": 12,
      "outputs": [
        {
          "output_type": "execute_result",
          "data": {
            "text/plain": [
              "30"
            ]
          },
          "metadata": {},
          "execution_count": 12
        }
      ]
    },
    {
      "cell_type": "code",
      "metadata": {
        "colab": {
          "base_uri": "https://localhost:8080/"
        },
        "id": "ZQPuNBn8TmPx",
        "outputId": "b7d98dee-0a15-4ec4-886e-1b0c0d6ceaed"
      },
      "source": [
        "# 예시\n",
        "\n",
        "print((lambda x : x*2)(10))\n",
        "\n",
        "print(list(map(lambda x  : -x, [10,20,30])))\n",
        "\n",
        "print(list(map(lambda x : x**2, [10,20])))\n",
        "\n",
        "print(list(map(lambda x,y : x+y, [0,10],[100,200])))\n",
        "\n",
        "print(list(map(lambda x: round(x%1), [10.1, 30.6, 24.5])))"
      ],
      "execution_count": 30,
      "outputs": [
        {
          "output_type": "stream",
          "name": "stdout",
          "text": [
            "20\n",
            "[-10, -20, -30]\n",
            "[100, 400]\n",
            "[100, 210]\n",
            "[0, 1, 0]\n"
          ]
        }
      ]
    },
    {
      "cell_type": "code",
      "metadata": {
        "colab": {
          "base_uri": "https://localhost:8080/"
        },
        "id": "X-l8VlCeTmNi",
        "outputId": "dea0ce70-47a3-4c90-86d8-f2bbdf28b7cb"
      },
      "source": [
        "print(round(25.5))"
      ],
      "execution_count": 18,
      "outputs": [
        {
          "output_type": "stream",
          "name": "stdout",
          "text": [
            "26\n"
          ]
        }
      ]
    },
    {
      "cell_type": "code",
      "metadata": {
        "id": "ibLeryMQXAKB"
      },
      "source": [
        ""
      ],
      "execution_count": null,
      "outputs": []
    }
  ]
}