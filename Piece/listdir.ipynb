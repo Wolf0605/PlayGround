{
  "nbformat": 4,
  "nbformat_minor": 0,
  "metadata": {
    "colab": {
      "name": "listdir",
      "provenance": []
    },
    "kernelspec": {
      "name": "python3",
      "display_name": "Python 3"
    },
    "language_info": {
      "name": "python"
    }
  },
  "cells": [
    {
      "cell_type": "code",
      "metadata": {
        "id": "7QnFkdG8KntH"
      },
      "source": [
        "import os, sys"
      ],
      "execution_count": 2,
      "outputs": []
    },
    {
      "cell_type": "code",
      "metadata": {
        "id": "He0XM_AnK4Hl"
      },
      "source": [
        "path = '/content/drive/MyDrive/temp'\n",
        "dirs = os.listdir(path)"
      ],
      "execution_count": 3,
      "outputs": []
    },
    {
      "cell_type": "code",
      "metadata": {
        "colab": {
          "base_uri": "https://localhost:8080/"
        },
        "id": "CrA4JzxxK_2o",
        "outputId": "d25d6102-b3d2-4f92-ea77-4e663482e64f"
      },
      "source": [
        "print(dirs)"
      ],
      "execution_count": 4,
      "outputs": [
        {
          "output_type": "stream",
          "name": "stdout",
          "text": [
            "['bmi_500.csv', 'titanic.xls', 'house_price.csv', 'diabetes.csv', 'human_activity', 'flowers', 'flowers_init.ipynb']\n"
          ]
        }
      ]
    },
    {
      "cell_type": "code",
      "metadata": {
        "colab": {
          "base_uri": "https://localhost:8080/"
        },
        "id": "-5opGS8TK_v-",
        "outputId": "77d5a03f-25f5-4fe9-c9c4-bad1864a6e06"
      },
      "source": [
        "path2 = '/content/drive/MyDrive/temp/flowers/daisy'\n",
        "dirs2 = os.listdir(path2)\n",
        "print(dirs2[:3])"
      ],
      "execution_count": 5,
      "outputs": [
        {
          "output_type": "stream",
          "name": "stdout",
          "text": [
            "['9467543719_c4800becbb_m.jpg', '9321854387_5f77c926cb_n.jpg', '9286947622_4822f4fc21.jpg']\n"
          ]
        }
      ]
    },
    {
      "cell_type": "code",
      "metadata": {
        "id": "82J7q3jEK_ZY"
      },
      "source": [
        ""
      ],
      "execution_count": null,
      "outputs": []
    }
  ]
}